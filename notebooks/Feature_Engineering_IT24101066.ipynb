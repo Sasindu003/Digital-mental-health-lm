{
  "nbformat": 4,
  "nbformat_minor": 0,
  "metadata": {
    "colab": {
      "provenance": [],
      "gpuType": "T4"
    },
    "kernelspec": {
      "name": "python3",
      "display_name": "Python 3"
    },
    "language_info": {
      "name": "python"
    },
    "accelerator": "GPU"
  },
  "cells": [
    {
      "cell_type": "markdown",
      "source": [
        "# **Feature Engineering - IT24101066**"
      ],
      "metadata": {
        "id": "6QdltCwL6ddK"
      }
    },
    {
      "cell_type": "code",
      "execution_count": 7,
      "metadata": {
        "colab": {
          "base_uri": "https://localhost:8080/"
        },
        "id": "L7JnAmOP0XMN",
        "outputId": "c4947837-787d-4cef-e9b1-e4bc4df3a6cf"
      },
      "outputs": [
        {
          "output_type": "stream",
          "name": "stdout",
          "text": [
            "DataSet loaded .. shape :  (2000, 26)\n",
            "\n",
            "Columns available : ['age', 'daily_screen_time_hours', 'phone_usage_hours', 'laptop_usage_hours', 'tablet_usage_hours', 'tv_usage_hours', 'social_media_hours', 'work_related_hours', 'entertainment_hours', 'gaming_hours', 'sleep_duration_hours', 'sleep_quality', 'mood_rating', 'stress_level', 'physical_activity_hours_per_week', 'mental_health_score', 'uses_wellness_apps', 'eats_healthy', 'caffeine_intake_mg_per_day', 'weekly_anxiety_score', 'weekly_depression_score', 'mindfulness_minutes_per_day', 'gender_Male', 'gender_Other', 'location_type_Suburban', 'location_type_Urban']\n",
            "\n",
            "New Features Created :   ['total_screen_hours', 'screen_per_sleep', 'sleep_deficit', 'digital_ratio', 'work_leisure_ratio', 'high_screen', 'short_sleep']\n",
            "   total_screen_hours  screen_per_sleep  sleep_deficit  digital_ratio  \\\n",
            "0            0.888091         17.158005       7.948240       2.056185   \n",
            "1            0.456096         -0.269075       9.695049       1.285517   \n",
            "2            0.094885          0.202891       7.532334       8.979078   \n",
            "3           -3.658946          3.059420       9.195961      -0.305456   \n",
            "4           -0.692290         -0.965254       7.282790       1.199716   \n",
            "\n",
            "   work_leisure_ratio  high_screen  short_sleep  \n",
            "0            0.007470            1            1  \n",
            "1           -0.822555            1            1  \n",
            "2            0.535078            1            1  \n",
            "3            0.388858            0            1  \n",
            "4           -1.055825            0            1  \n",
            "Freature engineered dataset saved a feature_engineered_dataset.csv\n"
          ]
        }
      ],
      "source": [
        "import pandas as pd\n",
        "import numpy as np\n",
        "\n",
        "#load the dataset\n",
        "df_fe = pd.read_csv('processed_Normalized.csv')\n",
        "\n",
        "print(\"DataSet loaded .. shape : \" , df_fe.shape)\n",
        "print(\"\\nColumns available :\" , df_fe.columns.tolist())\n",
        "\n",
        "#total screen hours\n",
        "device_cols = ['phone_usage_hours','tablet_usage_hours','laptop_usage_hours' , 'tv_usage_hours']\n",
        "device_cols =[c for c in device_cols if c in df_fe.columns]\n",
        "\n",
        "if device_cols :\n",
        "  df_fe['total_screen_hours'] = df_fe[device_cols].sum(axis=1)\n",
        "else:\n",
        "  df_fe['total_screen_hours'] = df_fe['daily_screen_time_hours']\n",
        "\n",
        "#screen per sleep\n",
        "if 'sleep_duration_hours' in df_fe.columns:\n",
        "  df_fe['screen_per_sleep'] = df_fe['total_screen_hours'] / df_fe['sleep_duration_hours'].replace(0,np.nan)\n",
        "\n",
        "#sleep deficit ( assuming 8 hours ideal)\n",
        "if 'sleep_duration_hours' in df_fe.columns:\n",
        "  df_fe['sleep_deficit'] = 8 - df_fe['sleep_duration_hours']\n",
        "\n",
        "#digital ratio\n",
        "if 'social_media_hours' in df_fe.columns:\n",
        "  df_fe['digital_ratio'] = df_fe['social_media_hours'] / df_fe['total_screen_hours'].replace(0, np.nan)\n",
        "\n",
        "#work leisure ratio (work / enterta9nment)\n",
        "if 'work_related_hours' in df_fe.columns:\n",
        "  df_fe['work_leisure_ratio'] = df_fe['work_related_hours'] / df_fe['entertainment_hours'].replace(0, np.nan)\n",
        "\n",
        "\n",
        "#caffeine per sleep hour\n",
        "if 'caffeine_hours' in df_fe.columns:\n",
        "  df_fe['caffeine_per_sleep_hours'] = df_fe['caffeine_intake_mg_per_day'] / df_fe['sleep_duration_hours'].replace(0, np.nan)\n",
        "\n",
        "#binary flags for interpretation\n",
        "if 'total_screen_hours' in df_fe.columns:\n",
        "  df_fe['high_screen'] = (df_fe['total_screen_hours'] > df_fe['total_screen_hours'].median()).astype(int)\n",
        "\n",
        "if 'sleep_duration_hours' in df_fe.columns:\n",
        "  df_fe['short_sleep'] = (df_fe['sleep_duration_hours'] < 7 ).astype(int)\n",
        "\n",
        "\n",
        "#check new cloumns:\n",
        "\n",
        "new_features = [c for c in df_fe.columns if c not in pd.read_csv(\"processed_Normalized.csv\").columns]\n",
        "print(\"\\nNew Features Created :  \" , new_features)\n",
        "print(df_fe[new_features].head())\n",
        "\n",
        "\n",
        "#save dataset\n",
        "df_fe.to_csv('feature_engineered_dataset.csv', index=False)\n",
        "print(\"Freature engineered dataset saved a feature_engineered_dataset.csv\")\n"
      ]
    }
  ]
}