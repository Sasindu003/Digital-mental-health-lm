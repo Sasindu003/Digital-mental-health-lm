{
  "nbformat": 4,
  "nbformat_minor": 0,
  "metadata": {
    "colab": {
      "provenance": []
    },
    "kernelspec": {
      "name": "python3",
      "display_name": "Python 3"
    },
    "language_info": {
      "name": "python"
    }
  },
  "cells": [
    {
      "cell_type": "code",
      "source": [
        "import pandas as pd\n",
        "import numpy as np\n",
        "import matplotlib.pyplot as plt\n",
        "from google.colab import files\n",
        "\n",
        "df = pd.read_csv('processed_encoding.csv')\n",
        "df.head(),df.shape,df.describe()\n",
        "\n",
        "numeric_cols = df.select_dtypes(include=[np.number]).columns\n",
        "\n",
        "def treat_outliers_iqr(data, cols):\n",
        "    df_clean = data.copy()\n",
        "    outlier_summary = {}\n",
        "\n",
        "    for col in cols:\n",
        "        Q1 = df_clean[col].quantile(0.25)\n",
        "        Q3 = df_clean[col].quantile(0.75)\n",
        "        IQR = Q3 - Q1\n",
        "        lower_bound = Q1 - 1.5 * IQR\n",
        "        upper_bound = Q3 + 1.5 * IQR\n",
        "\n",
        "\n",
        "        outliers = ((df_clean[col] < lower_bound) | (df_clean[col] > upper_bound)).sum()\n",
        "        outlier_summary[col] = int(outliers)\n",
        "\n",
        "\n",
        "        df_clean[col] = np.where(df_clean[col] < lower_bound, lower_bound,\n",
        "                          np.where(df_clean[col] > upper_bound, upper_bound, df_clean[col]))\n",
        "\n",
        "        if col in [\"daily_screen_time_hours\", \"caffeine_intake_mg_per_day\", \"weekly_anxiety_score\"]:\n",
        "            fig, axes = plt.subplots(1, 2, figsize=(10, 4))\n",
        "            fig.suptitle(f\"Outlier Treatment: {col}\", fontsize=14)\n",
        "\n",
        "            axes[0].boxplot(data[col], vert=True)\n",
        "            axes[0].set_title(\"Before Treatment\")\n",
        "            axes[0].set_ylabel(col)\n",
        "\n",
        "            axes[1].boxplot(df_clean[col], vert=True)\n",
        "            axes[1].set_title(\"After Treatment\")\n",
        "\n",
        "            plt.show()\n",
        "\n",
        "\n",
        "    return df_clean, outlier_summary\n",
        "\n",
        "df_clean, outlier_summary = treat_outliers_iqr(df, numeric_cols)\n",
        "\n",
        "print(\"Outliers detected per column:\")\n",
        "print(outlier_summary)\n",
        "\n",
        "print(\"\\nBefore Treatment:\\n\", df[numeric_cols].describe())\n",
        "print(\"\\nAfter Treatment:\\n\", df_clean[numeric_cols].describe())\n",
        "\n",
        "df_clean.to_csv(\"processed_clean.csv\", index=False)\n",
        "files.download(\"processed_clean.csv\")"
      ],
      "metadata": {
        "id": "K58fZRtPDG0G"
      },
      "execution_count": null,
      "outputs": []
    }
  ]
}